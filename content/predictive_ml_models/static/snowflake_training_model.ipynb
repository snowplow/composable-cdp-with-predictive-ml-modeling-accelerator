{
 "cells": [
  {
   "cell_type": "markdown",
   "id": "44548b67",
   "metadata": {},
   "source": [
    "# Propensity to Convert ML Model Training\n",
    "\n",
    "In this notebook we will be using sample behavioral data collected by Snowplow's Javascript tracker from Snowplow's [website](https://snowplow.io/). Using this data we will build a model to predict if a user is likely to become a Snowplow customer."
   ]
  },
  {
   "cell_type": "markdown",
   "id": "5915bbfe",
   "metadata": {},
   "source": [
    "### Model Selection\n",
    "\n",
    "Boosting trees often perform better than neural networks on categorical data sets, such as this one. The most popular ones are XGBoost, LightGBM and CatBoost, each with different strengths. For this example we will use LightGBM.\n",
    "\n",
    "**LightGBM** is a gradient boosting framework that uses tree based learning algorithms. It is designed to be distributed and efficient with the following advantages:\n",
    "\n",
    "* Faster training speed and higher efficiency\n",
    "* Lower memory usage\n",
    "* Better accuracy\n",
    "* Support of parallel, distributed, and GPU learning\n",
    "* Capable of handling large-scale data\n",
    "\n",
    "\n",
    "**Resources:**\n",
    "- [Full LightGBM Documentation](https://lightgbm.readthedocs.io/en/v3.3.2/)"
   ]
  },
  {
   "attachments": {},
   "cell_type": "markdown",
   "id": "9433bace",
   "metadata": {},
   "source": [
    "### Configuration\n",
    "\n",
    "* Python 3.8\n",
    "* Install Snowpark for Python and other libraries to your environment, if using Anaconda run the following to create a virtual environment with all the packages needed:\n",
    "  * `conda create --name snowpark --override-channels -c https://repo.anaconda.com/pkgs/snowflake python=3.8 numpy pandas dill scikit-learn cachetools lightgbm notebook snowflake-snowpark-python matplotlib plotly`\n",
    "  * `conda activate snowpark`\n",
    "  * `pip install imblearn`\n",
    "* Add a `connection.json` file to your directory with your Snowflake account details and credentials ([view template](https://github.com/snowplow/composable-cdp-with-predictive-ml-modeling-accelerator/blob/main/content/predictive_ml_models/static/connection.json))\n",
    "* [Snowpark-optimized warehouses](https://docs.snowflake.com/en/user-guide/warehouses-snowpark-optimized) are recommended if your ML training has large memory requirements"
   ]
  },
  {
   "cell_type": "code",
   "execution_count": 1,
   "id": "1797891b",
   "metadata": {},
   "outputs": [],
   "source": [
    "from snowflake.snowpark import Session\n",
    "import json\n",
    "import os\n",
    "import pandas as pd\n",
    "import lightgbm as lgb\n",
    "import numpy as np\n",
    "import dill\n",
    "from sklearn.model_selection import GridSearchCV\n",
    "from imblearn.over_sampling import SMOTENC\n",
    "from sklearn.base import BaseEstimator, TransformerMixin\n",
    "from sklearn.metrics import classification_report, confusion_matrix, ConfusionMatrixDisplay, fbeta_score, make_scorer\n",
    "from sklearn.pipeline import Pipeline"
   ]
  },
  {
   "cell_type": "code",
   "execution_count": 2,
   "id": "285486a3",
   "metadata": {},
   "outputs": [],
   "source": [
    "connection_parameters = json.load(open('connection.json'))\n",
    "session = Session.builder.configs(connection_parameters).create()"
   ]
  },
  {
   "cell_type": "markdown",
   "id": "b39cdde7",
   "metadata": {},
   "source": [
    "### Prepare dataset for training"
   ]
  },
  {
   "cell_type": "code",
   "execution_count": 3,
   "id": "2785270d",
   "metadata": {},
   "outputs": [
    {
     "data": {
      "text/html": [
       "<div>\n",
       "<style scoped>\n",
       "    .dataframe tbody tr th:only-of-type {\n",
       "        vertical-align: middle;\n",
       "    }\n",
       "\n",
       "    .dataframe tbody tr th {\n",
       "        vertical-align: top;\n",
       "    }\n",
       "\n",
       "    .dataframe thead th {\n",
       "        text-align: right;\n",
       "    }\n",
       "</style>\n",
       "<table border=\"1\" class=\"dataframe\">\n",
       "  <thead>\n",
       "    <tr style=\"text-align: right;\">\n",
       "      <th></th>\n",
       "      <th>user_id</th>\n",
       "      <th>first_page_title</th>\n",
       "      <th>refr_urlhost</th>\n",
       "      <th>refr_medium</th>\n",
       "      <th>mkt_medium</th>\n",
       "      <th>mkt_source</th>\n",
       "      <th>mkt_term</th>\n",
       "      <th>mkt_campaign</th>\n",
       "      <th>engaged_time_in_s</th>\n",
       "      <th>absolute_time_in_s</th>\n",
       "      <th>vertical_percentage_scrolled</th>\n",
       "      <th>geo_country</th>\n",
       "      <th>geo_region</th>\n",
       "      <th>br_lang</th>\n",
       "      <th>device_family</th>\n",
       "      <th>os_family</th>\n",
       "      <th>converted_user</th>\n",
       "    </tr>\n",
       "  </thead>\n",
       "  <tbody>\n",
       "    <tr>\n",
       "      <th>0</th>\n",
       "      <td>000276b605066680a7fa83509a64bc91</td>\n",
       "      <td>Snowplow: behavioral data creation leader</td>\n",
       "      <td>N/A</td>\n",
       "      <td>N/A</td>\n",
       "      <td>N/A</td>\n",
       "      <td>N/A</td>\n",
       "      <td>N/A</td>\n",
       "      <td>None</td>\n",
       "      <td>15</td>\n",
       "      <td>0</td>\n",
       "      <td>9.0</td>\n",
       "      <td>US</td>\n",
       "      <td>NY</td>\n",
       "      <td>en-US</td>\n",
       "      <td>Mac</td>\n",
       "      <td>Mac OS X</td>\n",
       "      <td>False</td>\n",
       "    </tr>\n",
       "    <tr>\n",
       "      <th>1</th>\n",
       "      <td>00094b5d7449bd89425fc6dede800b55</td>\n",
       "      <td>Get started with your Snowplow BDP demo | Snow...</td>\n",
       "      <td>www.linkedin.com</td>\n",
       "      <td>social</td>\n",
       "      <td>N/A</td>\n",
       "      <td>N/A</td>\n",
       "      <td>N/A</td>\n",
       "      <td>None</td>\n",
       "      <td>75</td>\n",
       "      <td>9</td>\n",
       "      <td>36.0</td>\n",
       "      <td>TR</td>\n",
       "      <td>34</td>\n",
       "      <td>tr-TR</td>\n",
       "      <td>Mac</td>\n",
       "      <td>Mac OS X</td>\n",
       "      <td>True</td>\n",
       "    </tr>\n",
       "    <tr>\n",
       "      <th>2</th>\n",
       "      <td>0019dcde87bed9be2034269bc764e7dd</td>\n",
       "      <td>White paper: Introductory guide to data modeli...</td>\n",
       "      <td>www.google.com</td>\n",
       "      <td>search</td>\n",
       "      <td>ppc</td>\n",
       "      <td>google-ad</td>\n",
       "      <td>data modelers</td>\n",
       "      <td>data-modeling</td>\n",
       "      <td>0</td>\n",
       "      <td>0</td>\n",
       "      <td>19.0</td>\n",
       "      <td>US</td>\n",
       "      <td>TX</td>\n",
       "      <td>en-US</td>\n",
       "      <td>iPhone</td>\n",
       "      <td>iOS</td>\n",
       "      <td>False</td>\n",
       "    </tr>\n",
       "    <tr>\n",
       "      <th>3</th>\n",
       "      <td>0021c59a8c518b055a4a28813181b3cc</td>\n",
       "      <td>September Product Office Hours | Snowplow</td>\n",
       "      <td>N/A</td>\n",
       "      <td>N/A</td>\n",
       "      <td>N/A</td>\n",
       "      <td>N/A</td>\n",
       "      <td>N/A</td>\n",
       "      <td>None</td>\n",
       "      <td>20</td>\n",
       "      <td>30</td>\n",
       "      <td>22.0</td>\n",
       "      <td>BE</td>\n",
       "      <td>VAN</td>\n",
       "      <td>nl-NL</td>\n",
       "      <td>Mac</td>\n",
       "      <td>Mac OS X</td>\n",
       "      <td>False</td>\n",
       "    </tr>\n",
       "    <tr>\n",
       "      <th>4</th>\n",
       "      <td>0024241b2e79ebd0d0566a23c011aed3</td>\n",
       "      <td>Snowplow: behavioral data creation leader</td>\n",
       "      <td>www.facebook.com</td>\n",
       "      <td>social</td>\n",
       "      <td>N/A</td>\n",
       "      <td>N/A</td>\n",
       "      <td>N/A</td>\n",
       "      <td>None</td>\n",
       "      <td>5</td>\n",
       "      <td>21</td>\n",
       "      <td>28.0</td>\n",
       "      <td>US</td>\n",
       "      <td>N/A</td>\n",
       "      <td>en-US</td>\n",
       "      <td>Other</td>\n",
       "      <td>Linux</td>\n",
       "      <td>False</td>\n",
       "    </tr>\n",
       "  </tbody>\n",
       "</table>\n",
       "</div>"
      ],
      "text/plain": [
       "                            user_id  \\\n",
       "0  000276b605066680a7fa83509a64bc91   \n",
       "1  00094b5d7449bd89425fc6dede800b55   \n",
       "2  0019dcde87bed9be2034269bc764e7dd   \n",
       "3  0021c59a8c518b055a4a28813181b3cc   \n",
       "4  0024241b2e79ebd0d0566a23c011aed3   \n",
       "\n",
       "                                    first_page_title      refr_urlhost  \\\n",
       "0          Snowplow: behavioral data creation leader               N/A   \n",
       "1  Get started with your Snowplow BDP demo | Snow...  www.linkedin.com   \n",
       "2  White paper: Introductory guide to data modeli...    www.google.com   \n",
       "3          September Product Office Hours | Snowplow               N/A   \n",
       "4          Snowplow: behavioral data creation leader  www.facebook.com   \n",
       "\n",
       "  refr_medium mkt_medium mkt_source       mkt_term   mkt_campaign  \\\n",
       "0         N/A        N/A        N/A            N/A           None   \n",
       "1      social        N/A        N/A            N/A           None   \n",
       "2      search        ppc  google-ad  data modelers  data-modeling   \n",
       "3         N/A        N/A        N/A            N/A           None   \n",
       "4      social        N/A        N/A            N/A           None   \n",
       "\n",
       "   engaged_time_in_s  absolute_time_in_s  vertical_percentage_scrolled  \\\n",
       "0                 15                   0                           9.0   \n",
       "1                 75                   9                          36.0   \n",
       "2                  0                   0                          19.0   \n",
       "3                 20                  30                          22.0   \n",
       "4                  5                  21                          28.0   \n",
       "\n",
       "  geo_country geo_region br_lang device_family os_family  converted_user  \n",
       "0          US         NY   en-US           Mac  Mac OS X           False  \n",
       "1          TR         34   tr-TR           Mac  Mac OS X            True  \n",
       "2          US         TX   en-US        iPhone       iOS           False  \n",
       "3          BE        VAN   nl-NL           Mac  Mac OS X           False  \n",
       "4          US        N/A   en-US         Other     Linux           False  "
      ]
     },
     "execution_count": 3,
     "metadata": {},
     "output_type": "execute_result"
    }
   ],
   "source": [
    "user_features = session.table('FIRST_TOUCH_USER_FEATURES')\n",
    "df = pd.DataFrame(user_features.collect())\n",
    "df.columns = map(str.lower, df.columns)\n",
    "\n",
    "ref_cols = [\"refr_urlhost\", \"refr_medium\"]\n",
    "mkt_cols = [\"mkt_medium\", \"mkt_source\", \"mkt_term\"]\n",
    "geo_cols = [\"geo_country\", \"geo_region\", \"br_lang\"]\n",
    "dev_cols = [\"device_family\", \"os_family\"]\n",
    "url_cols = [\"first_page_title\"]\n",
    "engagement_cols = [\"engaged_time_in_s\", \"absolute_time_in_s\", \"vertical_percentage_scrolled\"]\n",
    "\n",
    "discrete_col = ref_cols + mkt_cols + geo_cols + dev_cols + url_cols\n",
    "continues_col = engagement_cols\n",
    "all_features = discrete_col + continues_col\n",
    "\n",
    "# Input missing data\n",
    "for col in discrete_col:\n",
    "    df[col].fillna(\"N/A\", inplace=True)\n",
    "for col in continues_col:\n",
    "    df[col].fillna(df[col].mean(), inplace=True)\n",
    "\n",
    "df.head()"
   ]
  },
  {
   "cell_type": "code",
   "execution_count": 4,
   "id": "e3c93e76",
   "metadata": {},
   "outputs": [
    {
     "name": "stdout",
     "output_type": "stream",
     "text": [
      "Users: 9106\n",
      "False    0.936416\n",
      "True     0.063584\n",
      "Name: converted_user, dtype: float64\n"
     ]
    }
   ],
   "source": [
    "print(f\"Users: {len(df)}\")\n",
    "print(df[\"converted_user\"].value_counts(normalize=True))"
   ]
  },
  {
   "cell_type": "markdown",
   "id": "3296b587",
   "metadata": {},
   "source": [
    "The provided training data is relatively small in size and combined with a low conversion rate, we consider it to be imbalanced. Therefore we will balance the dataset with SMOTE, which will oversample the data by introducing new synthetic converted user samples."
   ]
  },
  {
   "cell_type": "code",
   "execution_count": 5,
   "id": "08948378",
   "metadata": {},
   "outputs": [],
   "source": [
    "# Reduce number of categorical features so `SMOTENC` doesn't run out of memory. \n",
    "class TakeTopK(BaseEstimator, TransformerMixin):\n",
    "  def __init__(self, k=20):\n",
    "    self.largest_cat = {}\n",
    "    self.k = k\n",
    "\n",
    "  def fit(self, X, y=None):\n",
    "    for col in discrete_col:\n",
    "      self.largest_cat[col] = df[col].value_counts().nlargest(self.k).index\n",
    "    return self\n",
    "\n",
    "  def transform(self, X, y=None):\n",
    "    Xt = pd.DataFrame()\n",
    "    for col in discrete_col:\n",
    "      Xt[col] = pd.Series(np.where(X[col].isin(self.largest_cat[col]), X[col], 'Other'), dtype='category')\n",
    "    Xt[continues_col] = X[continues_col].astype(float)\n",
    "    return Xt"
   ]
  },
  {
   "cell_type": "code",
   "execution_count": 6,
   "id": "f330294a",
   "metadata": {},
   "outputs": [],
   "source": [
    "# Create train and test data sets\n",
    "cat_index = [ pd.Index(all_features).get_loc(col) for col in discrete_col ]\n",
    "df_train, df_test = df.iloc[:df.shape[0]//10*8,:], df.iloc[df.shape[0]//10*8:,:]\n",
    "smote_nc = SMOTENC(categorical_features=cat_index, k_neighbors=5,  random_state=0)\n",
    "topk = TakeTopK(50)\n",
    "X_res, y_res = smote_nc.fit_resample(topk.fit_transform(df_train[all_features]), df_train.converted_user)\n"
   ]
  },
  {
   "cell_type": "markdown",
   "id": "9e74eee6",
   "metadata": {},
   "source": [
    "### Hyperparameter tuning\n",
    "Using GridSearchCV to run a hyperparameter sweep to train multiple models in parallel.\n",
    "\n",
    "Before fitting model hyperparameters, it is essential to establish what model property is being maximized. Accuracy would not work for this data due to class imbalance. A common approach to avoid this issue is the F1 score – a harmonic mean of precision and recall.\n",
    "\n",
    "Identifying conversions (true positive) is more important than misclassifying negatives (false positives). Because F1 assigns the same weight to both precision and recall, it needs to be generalized to F Beta. That allows us to weight recall against precision. F2 (beta equals 2) is used for this example – recall is twice as important as precision. The value of beta should be tuned to a business case, for further information view [Wikipedia's entry for F-score](https://en.wikipedia.org/wiki/F-score).\n"
   ]
  },
  {
   "cell_type": "code",
   "execution_count": 7,
   "id": "61c4cfad",
   "metadata": {},
   "outputs": [
    {
     "name": "stdout",
     "output_type": "stream",
     "text": [
      "F2 score: 0.856205 using {'clf__learning_rate': 1.0, 'clf__max_depth': 4, 'clf__metric': 'binary_logloss', 'clf__min_child_samples': 10, 'clf__n_estimators': 50, 'clf__num_leaves': 20, 'clf__objective': 'binary'}\n"
     ]
    }
   ],
   "source": [
    "lgbm = Pipeline([('top_20', TakeTopK(50)), ('clf', lgb.LGBMClassifier())])\n",
    "\n",
    "search_space = {\n",
    "  'clf__max_depth': [3, 4, 5, 6, 7],\n",
    "  'clf__objective': ['binary'],\n",
    "  'clf__metric': ['binary_logloss'],\n",
    "  'clf__n_estimators': [10, 50, 100, 200],\n",
    "  'clf__learning_rate': [0.0001, 0.001, 0.01, 0.1, 1.0],\n",
    "  'clf__num_leaves': [20, 30],\n",
    "  'clf__min_child_samples': [5, 10, 15]\n",
    "}\n",
    "\n",
    "scorer = make_scorer(fbeta_score, beta=2, pos_label=True)\n",
    "\n",
    "gscv = GridSearchCV(estimator=lgbm, param_grid=search_space, cv=5, scoring=scorer, n_jobs=-1)\n",
    "gscv.fit(X_res, y_res.astype(int))\n",
    "\n",
    "# log the best model information\n",
    "model = gscv.best_estimator_\n",
    "\n",
    "print(\"F2 score: %f using %s\" % (gscv.best_score_, gscv.best_params_))\n"
   ]
  },
  {
   "cell_type": "markdown",
   "id": "d61e03a5",
   "metadata": {},
   "source": [
    "### Model results\n",
    "Output a classification report and view feature importance to understand how your model is performing.\n",
    "\n",
    "You may want to run additional parameter sweeps to explore different parameter values or continue to engineer new features to try further optimizing the model. Once happy with the model you would retrain it on your entire dataset. For simplicity, these steps are not included in this example.\n"
   ]
  },
  {
   "cell_type": "code",
   "execution_count": 8,
   "id": "82cc7dfa",
   "metadata": {},
   "outputs": [
    {
     "name": "stdout",
     "output_type": "stream",
     "text": [
      "model score 0.4801324503311258\n",
      "              precision    recall  f1-score   support\n",
      "\n",
      "       False       0.97      0.95      0.96      1713\n",
      "        True       0.38      0.51      0.44       113\n",
      "\n",
      "    accuracy                           0.92      1826\n",
      "   macro avg       0.67      0.73      0.70      1826\n",
      "weighted avg       0.93      0.92      0.92      1826\n",
      "\n"
     ]
    },
    {
     "data": {
      "text/plain": [
       "<sklearn.metrics._plot.confusion_matrix.ConfusionMatrixDisplay at 0x1779b2580>"
      ]
     },
     "execution_count": 8,
     "metadata": {},
     "output_type": "execute_result"
    },
    {
     "data": {
      "image/png": "[encoded data removed]",
      "text/plain": [
       "<Figure size 640x480 with 2 Axes>"
      ]
     },
     "metadata": {},
     "output_type": "display_data"
    }
   ],
   "source": [
    "y_pred = np.where(model.predict(df_test[all_features]) > 0.5, 1, 0)\n",
    "cm = confusion_matrix(df_test['converted_user'].fillna(False), y_pred)\n",
    "disp = ConfusionMatrixDisplay(confusion_matrix=cm, display_labels=['not converted', 'converted'])\n",
    "print(f\"model score {fbeta_score(df_test['converted_user'].fillna(False), y_pred, beta=2)}\")\n",
    "print(classification_report(df_test['converted_user'].fillna(False), y_pred))\n",
    "disp.plot()"
   ]
  },
  {
   "cell_type": "markdown",
   "id": "ccd50d28",
   "metadata": {},
   "source": [
    "One of Snowplow's best features is its ability to accurately measure time engaged and scroll depth on a page by aggregating *[page ping](https://docs.snowplow.io/docs/collecting-data/collecting-from-own-applications/javascript-trackers/javascript-tracker/javascript-tracker-v2/tracking-specific-events/#activity-tracking-page-pings)* events. From the feature importance plot below you can see the power of these engagement metrics in predicting conversion.\n"
   ]
  },
  {
   "cell_type": "code",
   "execution_count": 9,
   "id": "43396194",
   "metadata": {},
   "outputs": [
    {
     "data": {
      "text/plain": [
       "<AxesSubplot: title={'center': 'Feature importance'}, xlabel='Feature importance', ylabel='Features'>"
      ]
     },
     "execution_count": 9,
     "metadata": {},
     "output_type": "execute_result"
    },
    {
     "data": {
      "image/png": "[encoded data removed]",
      "text/plain": [
       "<Figure size 640x480 with 1 Axes>"
      ]
     },
     "metadata": {},
     "output_type": "display_data"
    }
   ],
   "source": [
    "lgb.plot_importance(model.steps[1][1], max_num_features=15)"
   ]
  },
  {
   "cell_type": "markdown",
   "id": "a913c3c9",
   "metadata": {},
   "source": [
    "### Create Snowflake Stored Procedure\n",
    "\n",
    "First create a Python function that can be saved as a Stored Procedure running in Snowflake by combining all the preparation and training steps you've worked through above.\n",
    "\n",
    "Also include a step to save the model in a Snowflake stage so it can be easily loaded by a Snowflake UDF later."
   ]
  },
  {
   "cell_type": "code",
   "execution_count": 10,
   "id": "2a1eb90e",
   "metadata": {},
   "outputs": [],
   "source": [
    "def train_propensity_to_convert_model(session: Session) -> str:\n",
    "\n",
    "  import lightgbm as lgb\n",
    "  from imblearn.over_sampling import SMOTENC\n",
    "  import dill\n",
    "  import pandas as pd\n",
    "  import numpy as np\n",
    "\n",
    "  # Prepare data\n",
    "  user_features = session.table('FIRST_TOUCH_USER_FEATURES')\n",
    "  df  = pd.DataFrame(user_features.collect())\n",
    "  df.columns = map(str.lower, df.columns)\n",
    "\n",
    "  ref_cols = ['refr_urlhost', 'refr_medium']\n",
    "  mkt_cols = ['mkt_medium', 'mkt_source', 'mkt_term', 'mkt_campaign']\n",
    "  geo_cols = ['geo_country', 'geo_region', 'br_lang']\n",
    "  dev_cols = ['device_family', 'os_family']\n",
    "  url_cols = ['first_page_title']\n",
    "  engagement_cols = ['engaged_time_in_s', 'absolute_time_in_s', 'vertical_percentage_scrolled']\n",
    "\n",
    "  discrete_col = ref_cols + mkt_cols + geo_cols + dev_cols + url_cols\n",
    "  continues_col = engagement_cols\n",
    "  all_features = discrete_col + continues_col\n",
    "\n",
    "  # Input missing data\n",
    "  for col in discrete_col:\n",
    "    df[col].fillna('N/A', inplace=True)\n",
    "  for col in continues_col:\n",
    "    df[col].fillna(df[col].mean(), inplace=True)\n",
    "\n",
    "  # Reduce number of categorical features so `SMOTENC` doesn't run out of memory.\n",
    "  class TakeTopK(BaseEstimator, TransformerMixin):\n",
    "    def __init__(self, k=20):\n",
    "      self.largest_cat = {}\n",
    "      self.k = k\n",
    "\n",
    "    def fit(self, X, y=None):\n",
    "      for col in discrete_col:\n",
    "        self.largest_cat[col] = df[col].value_counts().nlargest(self.k).index\n",
    "      return self\n",
    "\n",
    "    def transform(self, X, y=None):\n",
    "      Xt = pd.DataFrame()\n",
    "      for col in discrete_col:\n",
    "        Xt[col] = pd.Series(np.where(X[col].isin(self.largest_cat[col]), X[col], 'Other'), dtype='category')\n",
    "      Xt[continues_col] = X[continues_col].astype(float)\n",
    "      return Xt\n",
    "\n",
    "  # Create train and test data sets\n",
    "  cat_index = [ pd.Index(all_features).get_loc(col) for col in discrete_col ]\n",
    "  df_train, df_test = df.iloc[:df.shape[0]//10*8,:], df.iloc[df.shape[0]//10*8:,:]\n",
    "  smote_nc = SMOTENC(categorical_features=cat_index, k_neighbors=5,  random_state=0)\n",
    "  topk = TakeTopK(50)\n",
    "  X_res, y_res = smote_nc.fit_resample(topk.fit_transform(df_train[all_features]), df_train.converted_user)\n",
    "\n",
    "  # Train model\n",
    "  lgbm = Pipeline([('top_20', TakeTopK(50)), ('clf', lgb.LGBMClassifier())])\n",
    "\n",
    "  search_space = {\n",
    "    'clf__max_depth': [3, 4, 5, 6, 7],\n",
    "    'clf__objective': ['binary'],\n",
    "    'clf__metric': ['binary_logloss'],\n",
    "    'clf__n_estimators': [10, 50, 100, 200],\n",
    "    'clf__learning_rate': [0.0001, 0.001, 0.01, 0.1, 1.0],\n",
    "    'clf__num_leaves': [20, 30],\n",
    "    'clf__min_child_samples': [5, 10, 15]\n",
    "  }\n",
    "\n",
    "  scorer = make_scorer(fbeta_score, beta=2, pos_label=True)\n",
    "\n",
    "  gscv = GridSearchCV(estimator=lgbm, param_grid=search_space, cv=5, scoring=scorer, n_jobs=-1)\n",
    "  gscv.fit(X_res, y_res.astype(int))\n",
    "\n",
    "  # log the best model information\n",
    "  model = gscv.best_estimator_\n",
    "\n",
    "  # Upload trained model to a stage\n",
    "  model_file = os.path.join('/tmp', 'model.joblib')\n",
    "  with open(model_file, \"wb\") as dill_file:\n",
    "    dill.dump(model, dill_file)\n",
    "  session.file.put(model_file, \"@ml_models\", overwrite=True)\n",
    "\n",
    "  # Return model F2 score on train and test data and show best model parameters\n",
    "  y_pred = np.where(model.predict(df_test[all_features]) > 0.5, 1, 0)\n",
    "  return {\n",
    "    'F2 score on train': gscv.best_score_,\n",
    "    'F2 score on test': fbeta_score(df_test['converted_user'].fillna(False), y_pred, beta=2),\n",
    "    'Best parameters': gscv.best_params_\n",
    "  }\n"
   ]
  },
  {
   "cell_type": "markdown",
   "id": "0f34c212",
   "metadata": {},
   "source": [
    "Let's test this function runs as expected."
   ]
  },
  {
   "cell_type": "code",
   "execution_count": 11,
   "id": "9f7df68c",
   "metadata": {},
   "outputs": [
    {
     "data": {
      "text/plain": [
       "{'F2 score on train': 0.8806674943058214,\n",
       " 'F2 score on test': 0.46666666666666673,\n",
       " 'Best parameters': {'clf__learning_rate': 1.0,\n",
       "  'clf__max_depth': 6,\n",
       "  'clf__metric': 'binary_logloss',\n",
       "  'clf__min_child_samples': 5,\n",
       "  'clf__n_estimators': 100,\n",
       "  'clf__num_leaves': 30,\n",
       "  'clf__objective': 'binary'}}"
      ]
     },
     "execution_count": 11,
     "metadata": {},
     "output_type": "execute_result"
    }
   ],
   "source": [
    "train_propensity_to_convert_model(session)"
   ]
  },
  {
   "cell_type": "markdown",
   "id": "a674b997",
   "metadata": {},
   "source": [
    "When ready you can register this model training Python function as a Snowpark Python Stored Procedure.\n",
    "\n",
    "At the time of writing this accelerator the imblanced-learn package is not supported in the [Snowflake conda channel](https://repo.anaconda.com/pkgs/snowflake/) so you have to import it."
   ]
  },
  {
   "cell_type": "code",
   "execution_count": 12,
   "id": "382162e1",
   "metadata": {
    "collapsed": true
   },
   "outputs": [
    {
     "data": {
      "text/plain": [
       "<snowflake.snowpark.stored_procedure.StoredProcedure at 0x177d045e0>"
      ]
     },
     "execution_count": 12,
     "metadata": {},
     "output_type": "execute_result"
    }
   ],
   "source": [
    "import imblearn\n",
    "imblearn_path = imblearn.__path__[0]\n",
    "\n",
    "session.sproc.register(\n",
    "  func=train_propensity_to_convert_model,\n",
    "  name=\"TRAIN_PROPENSITY_TO_CONVERT_MODEL\",\n",
    "  packages=['snowflake-snowpark-python','scikit-learn', 'lightgbm', 'dill'],\n",
    "  imports=[imblearn_path],\n",
    "  is_permanent=True,\n",
    "  stage_location=\"@SPROC_STAGE\",\n",
    "  replace=True\n",
    ")"
   ]
  },
  {
   "cell_type": "markdown",
   "id": "eecf20bf",
   "metadata": {},
   "source": [
    "You can now call this stored procedure by executing the following command:\n",
    "```sql\n",
    "CALL TRAIN_PROPENSITY_TO_CONVERT_MODEL();\n",
    "```"
   ]
  }
 ],
 "metadata": {
  "kernelspec": {
   "display_name": "snowpark",
   "language": "python",
   "name": "python3"
  },
  "language_info": {
   "codemirror_mode": {
    "name": "ipython",
    "version": 3
   },
   "file_extension": ".py",
   "mimetype": "text/x-python",
   "name": "python",
   "nbconvert_exporter": "python",
   "pygments_lexer": "ipython3",
   "version": "3.8.16"
  },
  "vscode": {
   "interpreter": {
    "hash": "5e77aeee021208320ba9d7a40bfcedc83549e83f77b6b23c008390131a9cd176"
   }
  }
 },
 "nbformat": 4,
 "nbformat_minor": 5
}
