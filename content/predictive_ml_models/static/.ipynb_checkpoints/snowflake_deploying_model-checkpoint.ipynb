{
 "cells": [
  {
   "cell_type": "markdown",
   "metadata": {},
   "source": [
    "# Propensity to Convert ML Model Usage\n",
    "\n",
    "In this notebook we will be using sample behavioral data collected by Snowplow's Javascript tracker from Snowplow's [website](https://snowplow.io/). \n",
    "\n",
    "Using our production propensity model, we will perform predictions on users from this dataset and save the output to a new table to feed into marketing campaigns. \n"
   ]
  },
  {
   "cell_type": "markdown",
   "metadata": {},
   "source": [
    "### Configuration\n",
    "\n",
    "* Python 3.8\n",
    "* Install Snowpark for Python and other libraries to your environment\n",
    "* Update `connection.json` with your Snowflake account details and credentials"
   ]
  },
  {
   "cell_type": "code",
   "execution_count": 9,
   "metadata": {},
   "outputs": [],
   "source": [
    "import json\n",
    "import cachetools\n",
    "from snowflake.snowpark import Session\n",
    "from snowflake.snowpark.functions import udf, call_udf, col"
   ]
  },
  {
   "cell_type": "code",
   "execution_count": 4,
   "metadata": {},
   "outputs": [],
   "source": [
    "connection_parameters = json.load(open('connection.json'))\n",
    "session = Session.builder.configs(connection_parameters).create()"
   ]
  },
  {
   "cell_type": "markdown",
   "metadata": {},
   "source": [
    "### Perform predictions\n",
    "Load and use your model to predict propensity to convert."
   ]
  },
  {
   "cell_type": "code",
   "execution_count": 14,
   "metadata": {},
   "outputs": [
    {
     "name": "stderr",
     "output_type": "stream",
     "text": [
      "The version of package pandas in the local environment is 1.5.3, which does not fit the criteria for the requirement pandas. Your UDF might not work when the package version is different between the server and your local environment\n",
      "The version of package scikit-learn in the local environment is 1.2.1, which does not fit the criteria for the requirement scikit-learn. Your UDF might not work when the package version is different between the server and your local environment\n",
      "The version of package cachetools in the local environment is 5.3.0, which does not fit the criteria for the requirement cachetools. Your UDF might not work when the package version is different between the server and your local environment\n",
      "The version of package pandas in the local environment is 1.5.3, which does not fit the criteria for the requirement pandas. Your UDF might not work when the package version is different between the server and your local environment\n",
      "The version of package lightgbm in the local environment is 3.3.5, which does not fit the criteria for the requirement lightgbm. Your UDF might not work when the package version is different between the server and your local environment\n"
     ]
    }
   ],
   "source": [
    "session.clear_imports()\n",
    "session.clear_packages()\n",
    "\n",
    "import imblearn\n",
    "imblearn_path = imblearn.__path__[0]\n",
    "\n",
    "session.add_import('@ml_models/model.joblib')\n",
    "session.add_import(imblearn_path)\n",
    "session.add_packages('pandas', 'scikit-learn', 'dill')\n",
    "\n",
    "\n",
    "@cachetools.cached(cache={})\n",
    "def read_model(filename):\n",
    "  import dill\n",
    "  import sys\n",
    "  import os\n",
    "\n",
    "  import_dir = sys._xoptions.get(\"snowflake_import_directory\")\n",
    "  if import_dir:\n",
    "    with open(os.path.join(import_dir, filename), 'rb') as file:\n",
    "      m = dill.load(file)\n",
    "      return m\n",
    "\n",
    "\n",
    "@udf(\n",
    "  name='predict_propensity_to_convert',\n",
    "  session=session,\n",
    "  replace=True,\n",
    "  is_permanent=True,\n",
    "  stage_location='@ml_model_udfs',\n",
    "  packages=[\"cachetools\", \"pandas\", \"dill\", \"lightgbm\"]\n",
    ")\n",
    "def predict_propensity_to_convert(\n",
    "  first_page_title: str,\n",
    "  refr_urlhost: str,\n",
    "  refr_medium: str,\n",
    "  mkt_medium: str,\n",
    "  mkt_source: str,\n",
    "  mkt_term: str,\n",
    "  mkt_campaign: str,\n",
    "  engaged_time_in_s: float,\n",
    "  absolute_time_in_s: float,\n",
    "  vertical_percentage_scrolled: float,\n",
    "  geo_country: str,\n",
    "  geo_region: str,\n",
    "  br_lang: str,\n",
    "  device_family: str,\n",
    "  os_family: str,\n",
    ") -> float:\n",
    "  import pandas as pd\n",
    "\n",
    "  model = read_model('model.joblib')\n",
    "\n",
    "  df = pd.DataFrame([[\n",
    "    first_page_title,\n",
    "    refr_urlhost,\n",
    "    refr_medium,\n",
    "    mkt_medium,\n",
    "    mkt_source,\n",
    "    mkt_term,\n",
    "    mkt_campaign,\n",
    "    engaged_time_in_s,\n",
    "    absolute_time_in_s,\n",
    "    vertical_percentage_scrolled,\n",
    "    geo_country,\n",
    "    geo_region,\n",
    "    br_lang,\n",
    "    device_family,\n",
    "    os_family]],\n",
    "    columns=[\n",
    "      \"first_page_title\",\n",
    "      \"refr_urlhost\",\n",
    "      \"refr_medium\",\n",
    "      \"mkt_medium\",\n",
    "      \"mkt_source\",\n",
    "      \"mkt_term\",\n",
    "      \"mkt_campaign\",\n",
    "      \"engaged_time_in_s\",\n",
    "      \"absolute_time_in_s\",\n",
    "      \"vertical_percentage_scrolled\",\n",
    "      \"geo_country\",\n",
    "      \"geo_region\",\n",
    "      \"br_lang\",\n",
    "      \"device_family\",\n",
    "      \"os_family\"]\n",
    "    )\n",
    "\n",
    "  prediction = model.predict_proba(df)[0][1]\n",
    "\n",
    "  return prediction"
   ]
  },
  {
   "cell_type": "markdown",
   "metadata": {},
   "source": [
    "You can now utilize this UDF in SQL:\n",
    "```sql\n",
    "SELECT converted_user, predict_propensity_to_convert(first_page_title, refr_urlhost, refr_medium, mkt_medium, mkt_source, mkt_term, mkt_campaign, engaged_time_in_s, absolute_time_in_s, vertical_percentage_scrolled, geo_country, geo_region, br_lang, device_family, os_family) AS prediction\n",
    "FROM first_touch_user_features\n",
    "```\n",
    "\n",
    "Alternatively you can use it in python too."
   ]
  },
  {
   "cell_type": "code",
   "execution_count": 34,
   "metadata": {},
   "outputs": [
    {
     "data": {
      "text/html": [
       "<div>\n",
       "<style scoped>\n",
       "    .dataframe tbody tr th:only-of-type {\n",
       "        vertical-align: middle;\n",
       "    }\n",
       "\n",
       "    .dataframe tbody tr th {\n",
       "        vertical-align: top;\n",
       "    }\n",
       "\n",
       "    .dataframe thead th {\n",
       "        text-align: right;\n",
       "    }\n",
       "</style>\n",
       "<table border=\"1\" class=\"dataframe\">\n",
       "  <thead>\n",
       "    <tr style=\"text-align: right;\">\n",
       "      <th></th>\n",
       "      <th>USER_ID</th>\n",
       "      <th>FIRST_PAGE_TITLE</th>\n",
       "      <th>REFR_URLHOST</th>\n",
       "      <th>REFR_MEDIUM</th>\n",
       "      <th>MKT_MEDIUM</th>\n",
       "      <th>MKT_SOURCE</th>\n",
       "      <th>MKT_TERM</th>\n",
       "      <th>MKT_CAMPAIGN</th>\n",
       "      <th>ENGAGED_TIME_IN_S</th>\n",
       "      <th>ABSOLUTE_TIME_IN_S</th>\n",
       "      <th>VERTICAL_PERCENTAGE_SCROLLED</th>\n",
       "      <th>GEO_COUNTRY</th>\n",
       "      <th>GEO_REGION</th>\n",
       "      <th>BR_LANG</th>\n",
       "      <th>DEVICE_FAMILY</th>\n",
       "      <th>OS_FAMILY</th>\n",
       "      <th>PROPENSITY_SCORE</th>\n",
       "    </tr>\n",
       "  </thead>\n",
       "  <tbody>\n",
       "    <tr>\n",
       "      <th>0</th>\n",
       "      <td>00094b5d7449bd89425fc6dede800b55</td>\n",
       "      <td>Get started with your Snowplow BDP demo | Snow...</td>\n",
       "      <td>www.linkedin.com</td>\n",
       "      <td>social</td>\n",
       "      <td>None</td>\n",
       "      <td>None</td>\n",
       "      <td>None</td>\n",
       "      <td>None</td>\n",
       "      <td>75</td>\n",
       "      <td>9</td>\n",
       "      <td>36.0</td>\n",
       "      <td>TR</td>\n",
       "      <td>34</td>\n",
       "      <td>tr-TR</td>\n",
       "      <td>Mac</td>\n",
       "      <td>Mac OS X</td>\n",
       "      <td>0.999991</td>\n",
       "    </tr>\n",
       "    <tr>\n",
       "      <th>1</th>\n",
       "      <td>010c456d792b393805049701b1949679</td>\n",
       "      <td>Get in touch with the team at Snowplow | Snowplow</td>\n",
       "      <td>None</td>\n",
       "      <td>None</td>\n",
       "      <td>None</td>\n",
       "      <td>None</td>\n",
       "      <td>None</td>\n",
       "      <td>None</td>\n",
       "      <td>0</td>\n",
       "      <td>0</td>\n",
       "      <td>18.0</td>\n",
       "      <td>US</td>\n",
       "      <td>VA</td>\n",
       "      <td>C</td>\n",
       "      <td>Other</td>\n",
       "      <td>Linux</td>\n",
       "      <td>0.999964</td>\n",
       "    </tr>\n",
       "    <tr>\n",
       "      <th>2</th>\n",
       "      <td>02b05906d86306b843299e6c36c38454</td>\n",
       "      <td>Get in touch with the team at Snowplow | Snowplow</td>\n",
       "      <td>www.google.com</td>\n",
       "      <td>search</td>\n",
       "      <td>ppc</td>\n",
       "      <td>google-ad</td>\n",
       "      <td>data monetize</td>\n",
       "      <td>data-utilization</td>\n",
       "      <td>55</td>\n",
       "      <td>79</td>\n",
       "      <td>88.0</td>\n",
       "      <td>US</td>\n",
       "      <td>OR</td>\n",
       "      <td>en-US</td>\n",
       "      <td>Other</td>\n",
       "      <td>Windows</td>\n",
       "      <td>0.999858</td>\n",
       "    </tr>\n",
       "    <tr>\n",
       "      <th>3</th>\n",
       "      <td>0138c80b431f2718ed7fc7b25bd0020d</td>\n",
       "      <td>Snowplow: behavioral data creation leader</td>\n",
       "      <td>None</td>\n",
       "      <td>None</td>\n",
       "      <td>None</td>\n",
       "      <td>None</td>\n",
       "      <td>None</td>\n",
       "      <td>None</td>\n",
       "      <td>510</td>\n",
       "      <td>159</td>\n",
       "      <td>13.0</td>\n",
       "      <td>US</td>\n",
       "      <td>NY</td>\n",
       "      <td>en-US</td>\n",
       "      <td>Mac</td>\n",
       "      <td>Mac OS X</td>\n",
       "      <td>0.997642</td>\n",
       "    </tr>\n",
       "    <tr>\n",
       "      <th>4</th>\n",
       "      <td>006233e361f71e798c39e187c9d64e7b</td>\n",
       "      <td>Snowplow: behavioral data creation leader</td>\n",
       "      <td>None</td>\n",
       "      <td>None</td>\n",
       "      <td>None</td>\n",
       "      <td>None</td>\n",
       "      <td>None</td>\n",
       "      <td>None</td>\n",
       "      <td>50</td>\n",
       "      <td>0</td>\n",
       "      <td>9.0</td>\n",
       "      <td>US</td>\n",
       "      <td>MA</td>\n",
       "      <td>en-US</td>\n",
       "      <td>Pixel 5a</td>\n",
       "      <td>Android</td>\n",
       "      <td>0.978698</td>\n",
       "    </tr>\n",
       "    <tr>\n",
       "      <th>5</th>\n",
       "      <td>017ea266e3b7c5bd139f3efb82023a03</td>\n",
       "      <td>Snowplow: behavioral data creation leader</td>\n",
       "      <td>None</td>\n",
       "      <td>None</td>\n",
       "      <td>None</td>\n",
       "      <td>None</td>\n",
       "      <td>None</td>\n",
       "      <td>None</td>\n",
       "      <td>310</td>\n",
       "      <td>182</td>\n",
       "      <td>31.0</td>\n",
       "      <td>US</td>\n",
       "      <td>VA</td>\n",
       "      <td>ru-RU</td>\n",
       "      <td>Other</td>\n",
       "      <td>Linux</td>\n",
       "      <td>0.957348</td>\n",
       "    </tr>\n",
       "    <tr>\n",
       "      <th>6</th>\n",
       "      <td>02164305e914a9159caf852d3ef7cfa6</td>\n",
       "      <td>Snowplow: behavioral data creation leader</td>\n",
       "      <td>None</td>\n",
       "      <td>None</td>\n",
       "      <td>None</td>\n",
       "      <td>None</td>\n",
       "      <td>None</td>\n",
       "      <td>None</td>\n",
       "      <td>20</td>\n",
       "      <td>39</td>\n",
       "      <td>100.0</td>\n",
       "      <td>PK</td>\n",
       "      <td>PB</td>\n",
       "      <td>en-US</td>\n",
       "      <td>Other</td>\n",
       "      <td>Windows</td>\n",
       "      <td>0.949957</td>\n",
       "    </tr>\n",
       "    <tr>\n",
       "      <th>7</th>\n",
       "      <td>0247a40e8d5d7ac9d4541bec8d217c90</td>\n",
       "      <td>Book a demo | Snowplow</td>\n",
       "      <td>None</td>\n",
       "      <td>None</td>\n",
       "      <td>None</td>\n",
       "      <td>None</td>\n",
       "      <td>None</td>\n",
       "      <td>None</td>\n",
       "      <td>60</td>\n",
       "      <td>129</td>\n",
       "      <td>99.0</td>\n",
       "      <td>CA</td>\n",
       "      <td>ON</td>\n",
       "      <td>en-US</td>\n",
       "      <td>Samsung SM-G781W</td>\n",
       "      <td>Android</td>\n",
       "      <td>0.444766</td>\n",
       "    </tr>\n",
       "    <tr>\n",
       "      <th>8</th>\n",
       "      <td>008942fd19eeae0185c8168ffa957589</td>\n",
       "      <td>Snowplow: behavioral data creation leader</td>\n",
       "      <td>None</td>\n",
       "      <td>None</td>\n",
       "      <td>None</td>\n",
       "      <td>None</td>\n",
       "      <td>None</td>\n",
       "      <td>None</td>\n",
       "      <td>30</td>\n",
       "      <td>18</td>\n",
       "      <td>79.0</td>\n",
       "      <td>EG</td>\n",
       "      <td>None</td>\n",
       "      <td>en-US</td>\n",
       "      <td>Other</td>\n",
       "      <td>Windows</td>\n",
       "      <td>0.045704</td>\n",
       "    </tr>\n",
       "    <tr>\n",
       "      <th>9</th>\n",
       "      <td>00ec5d8a1cd304cbfe97fac179b0e659</td>\n",
       "      <td>Snowplow: behavioral data creation leader</td>\n",
       "      <td>www.google.com</td>\n",
       "      <td>search</td>\n",
       "      <td>None</td>\n",
       "      <td>None</td>\n",
       "      <td>None</td>\n",
       "      <td>None</td>\n",
       "      <td>0</td>\n",
       "      <td>0</td>\n",
       "      <td>11.0</td>\n",
       "      <td>GE</td>\n",
       "      <td>TB</td>\n",
       "      <td>en-US</td>\n",
       "      <td>Mac</td>\n",
       "      <td>Mac OS X</td>\n",
       "      <td>0.003009</td>\n",
       "    </tr>\n",
       "    <tr>\n",
       "      <th>10</th>\n",
       "      <td>025dff9bb1f9ccb67526a721f99a8c7e</td>\n",
       "      <td>Snowplow: behavioral data creation leader</td>\n",
       "      <td>www.google.com</td>\n",
       "      <td>search</td>\n",
       "      <td>None</td>\n",
       "      <td>None</td>\n",
       "      <td>None</td>\n",
       "      <td>None</td>\n",
       "      <td>35</td>\n",
       "      <td>39</td>\n",
       "      <td>100.0</td>\n",
       "      <td>RU</td>\n",
       "      <td>ROS</td>\n",
       "      <td>ru-RU</td>\n",
       "      <td>Other</td>\n",
       "      <td>Windows</td>\n",
       "      <td>0.000932</td>\n",
       "    </tr>\n",
       "    <tr>\n",
       "      <th>11</th>\n",
       "      <td>0134d5383ab1d3664df475ee6c0f53eb</td>\n",
       "      <td>Building a “Propensity to Convert” machine lea...</td>\n",
       "      <td>www.google.com</td>\n",
       "      <td>search</td>\n",
       "      <td>None</td>\n",
       "      <td>None</td>\n",
       "      <td>None</td>\n",
       "      <td>None</td>\n",
       "      <td>115</td>\n",
       "      <td>158</td>\n",
       "      <td>28.0</td>\n",
       "      <td>IN</td>\n",
       "      <td>KL</td>\n",
       "      <td>en-US</td>\n",
       "      <td>Other</td>\n",
       "      <td>Windows</td>\n",
       "      <td>0.000795</td>\n",
       "    </tr>\n",
       "    <tr>\n",
       "      <th>12</th>\n",
       "      <td>000276b605066680a7fa83509a64bc91</td>\n",
       "      <td>Snowplow: behavioral data creation leader</td>\n",
       "      <td>None</td>\n",
       "      <td>None</td>\n",
       "      <td>None</td>\n",
       "      <td>None</td>\n",
       "      <td>None</td>\n",
       "      <td>None</td>\n",
       "      <td>15</td>\n",
       "      <td>0</td>\n",
       "      <td>9.0</td>\n",
       "      <td>US</td>\n",
       "      <td>NY</td>\n",
       "      <td>en-US</td>\n",
       "      <td>Mac</td>\n",
       "      <td>Mac OS X</td>\n",
       "      <td>0.000679</td>\n",
       "    </tr>\n",
       "    <tr>\n",
       "      <th>13</th>\n",
       "      <td>029b3d17d63ff49659817f60fad819ee</td>\n",
       "      <td>Snowplow: behavioral data creation leader</td>\n",
       "      <td>com.linkedin.android</td>\n",
       "      <td>unknown</td>\n",
       "      <td>None</td>\n",
       "      <td>None</td>\n",
       "      <td>None</td>\n",
       "      <td>None</td>\n",
       "      <td>320</td>\n",
       "      <td>99</td>\n",
       "      <td>58.0</td>\n",
       "      <td>GB</td>\n",
       "      <td>DBY</td>\n",
       "      <td>en-GB</td>\n",
       "      <td>Samsung SM-G973F</td>\n",
       "      <td>Android</td>\n",
       "      <td>0.000524</td>\n",
       "    </tr>\n",
       "    <tr>\n",
       "      <th>14</th>\n",
       "      <td>006e399f152a883b4c2b743dc8c6412c</td>\n",
       "      <td>Snowplow: behavioral data creation leader</td>\n",
       "      <td>None</td>\n",
       "      <td>None</td>\n",
       "      <td>None</td>\n",
       "      <td>None</td>\n",
       "      <td>None</td>\n",
       "      <td>None</td>\n",
       "      <td>435</td>\n",
       "      <td>527</td>\n",
       "      <td>100.0</td>\n",
       "      <td>IN</td>\n",
       "      <td>GJ</td>\n",
       "      <td>en-GB</td>\n",
       "      <td>Other</td>\n",
       "      <td>Windows</td>\n",
       "      <td>0.000400</td>\n",
       "    </tr>\n",
       "    <tr>\n",
       "      <th>15</th>\n",
       "      <td>0024241b2e79ebd0d0566a23c011aed3</td>\n",
       "      <td>Snowplow: behavioral data creation leader</td>\n",
       "      <td>www.facebook.com</td>\n",
       "      <td>social</td>\n",
       "      <td>None</td>\n",
       "      <td>None</td>\n",
       "      <td>None</td>\n",
       "      <td>None</td>\n",
       "      <td>5</td>\n",
       "      <td>21</td>\n",
       "      <td>28.0</td>\n",
       "      <td>US</td>\n",
       "      <td>None</td>\n",
       "      <td>en-US</td>\n",
       "      <td>Other</td>\n",
       "      <td>Linux</td>\n",
       "      <td>0.000375</td>\n",
       "    </tr>\n",
       "    <tr>\n",
       "      <th>16</th>\n",
       "      <td>004f7baec27baae9d5cc45beec65c391</td>\n",
       "      <td>Snowplow: behavioral data creation leader</td>\n",
       "      <td>None</td>\n",
       "      <td>None</td>\n",
       "      <td>None</td>\n",
       "      <td>None</td>\n",
       "      <td>None</td>\n",
       "      <td>None</td>\n",
       "      <td>25</td>\n",
       "      <td>0</td>\n",
       "      <td>10.0</td>\n",
       "      <td>IN</td>\n",
       "      <td>BR</td>\n",
       "      <td>en-GB</td>\n",
       "      <td>Mac</td>\n",
       "      <td>Mac OS X</td>\n",
       "      <td>0.000330</td>\n",
       "    </tr>\n",
       "    <tr>\n",
       "      <th>17</th>\n",
       "      <td>0054b5e34c3efe6f59d260b9799435be</td>\n",
       "      <td>White paper: How to manage your data lake effe...</td>\n",
       "      <td>None</td>\n",
       "      <td>None</td>\n",
       "      <td>None</td>\n",
       "      <td>None</td>\n",
       "      <td>None</td>\n",
       "      <td>None</td>\n",
       "      <td>5</td>\n",
       "      <td>19</td>\n",
       "      <td>100.0</td>\n",
       "      <td>US</td>\n",
       "      <td>OR</td>\n",
       "      <td>en-US</td>\n",
       "      <td>Mac</td>\n",
       "      <td>Mac OS X</td>\n",
       "      <td>0.000312</td>\n",
       "    </tr>\n",
       "    <tr>\n",
       "      <th>18</th>\n",
       "      <td>0145ac296f59f511f8a6310f981a1aa9</td>\n",
       "      <td>White paper: Multi-cloud for data analytics | ...</td>\n",
       "      <td>None</td>\n",
       "      <td>None</td>\n",
       "      <td>None</td>\n",
       "      <td>None</td>\n",
       "      <td>None</td>\n",
       "      <td>None</td>\n",
       "      <td>5</td>\n",
       "      <td>19</td>\n",
       "      <td>100.0</td>\n",
       "      <td>US</td>\n",
       "      <td>OR</td>\n",
       "      <td>en-US</td>\n",
       "      <td>Mac</td>\n",
       "      <td>Mac OS X</td>\n",
       "      <td>0.000312</td>\n",
       "    </tr>\n",
       "    <tr>\n",
       "      <th>19</th>\n",
       "      <td>00559588ab9a3582b5625a0081595836</td>\n",
       "      <td>Explore snowplow data part 1 | Snowplow</td>\n",
       "      <td>None</td>\n",
       "      <td>None</td>\n",
       "      <td>None</td>\n",
       "      <td>None</td>\n",
       "      <td>None</td>\n",
       "      <td>None</td>\n",
       "      <td>30</td>\n",
       "      <td>20</td>\n",
       "      <td>56.0</td>\n",
       "      <td>DE</td>\n",
       "      <td>HE</td>\n",
       "      <td>en-GB</td>\n",
       "      <td>Mac</td>\n",
       "      <td>Mac OS X</td>\n",
       "      <td>0.000241</td>\n",
       "    </tr>\n",
       "  </tbody>\n",
       "</table>\n",
       "</div>"
      ],
      "text/plain": [
       "                             USER_ID  \\\n",
       "0   00094b5d7449bd89425fc6dede800b55   \n",
       "1   010c456d792b393805049701b1949679   \n",
       "2   02b05906d86306b843299e6c36c38454   \n",
       "3   0138c80b431f2718ed7fc7b25bd0020d   \n",
       "4   006233e361f71e798c39e187c9d64e7b   \n",
       "5   017ea266e3b7c5bd139f3efb82023a03   \n",
       "6   02164305e914a9159caf852d3ef7cfa6   \n",
       "7   0247a40e8d5d7ac9d4541bec8d217c90   \n",
       "8   008942fd19eeae0185c8168ffa957589   \n",
       "9   00ec5d8a1cd304cbfe97fac179b0e659   \n",
       "10  025dff9bb1f9ccb67526a721f99a8c7e   \n",
       "11  0134d5383ab1d3664df475ee6c0f53eb   \n",
       "12  000276b605066680a7fa83509a64bc91   \n",
       "13  029b3d17d63ff49659817f60fad819ee   \n",
       "14  006e399f152a883b4c2b743dc8c6412c   \n",
       "15  0024241b2e79ebd0d0566a23c011aed3   \n",
       "16  004f7baec27baae9d5cc45beec65c391   \n",
       "17  0054b5e34c3efe6f59d260b9799435be   \n",
       "18  0145ac296f59f511f8a6310f981a1aa9   \n",
       "19  00559588ab9a3582b5625a0081595836   \n",
       "\n",
       "                                     FIRST_PAGE_TITLE          REFR_URLHOST  \\\n",
       "0   Get started with your Snowplow BDP demo | Snow...      www.linkedin.com   \n",
       "1   Get in touch with the team at Snowplow | Snowplow                  None   \n",
       "2   Get in touch with the team at Snowplow | Snowplow        www.google.com   \n",
       "3           Snowplow: behavioral data creation leader                  None   \n",
       "4           Snowplow: behavioral data creation leader                  None   \n",
       "5           Snowplow: behavioral data creation leader                  None   \n",
       "6           Snowplow: behavioral data creation leader                  None   \n",
       "7                              Book a demo | Snowplow                  None   \n",
       "8           Snowplow: behavioral data creation leader                  None   \n",
       "9           Snowplow: behavioral data creation leader        www.google.com   \n",
       "10          Snowplow: behavioral data creation leader        www.google.com   \n",
       "11  Building a “Propensity to Convert” machine lea...        www.google.com   \n",
       "12          Snowplow: behavioral data creation leader                  None   \n",
       "13          Snowplow: behavioral data creation leader  com.linkedin.android   \n",
       "14          Snowplow: behavioral data creation leader                  None   \n",
       "15          Snowplow: behavioral data creation leader      www.facebook.com   \n",
       "16          Snowplow: behavioral data creation leader                  None   \n",
       "17  White paper: How to manage your data lake effe...                  None   \n",
       "18  White paper: Multi-cloud for data analytics | ...                  None   \n",
       "19            Explore snowplow data part 1 | Snowplow                  None   \n",
       "\n",
       "   REFR_MEDIUM MKT_MEDIUM MKT_SOURCE       MKT_TERM      MKT_CAMPAIGN  \\\n",
       "0       social       None       None           None              None   \n",
       "1         None       None       None           None              None   \n",
       "2       search        ppc  google-ad  data monetize  data-utilization   \n",
       "3         None       None       None           None              None   \n",
       "4         None       None       None           None              None   \n",
       "5         None       None       None           None              None   \n",
       "6         None       None       None           None              None   \n",
       "7         None       None       None           None              None   \n",
       "8         None       None       None           None              None   \n",
       "9       search       None       None           None              None   \n",
       "10      search       None       None           None              None   \n",
       "11      search       None       None           None              None   \n",
       "12        None       None       None           None              None   \n",
       "13     unknown       None       None           None              None   \n",
       "14        None       None       None           None              None   \n",
       "15      social       None       None           None              None   \n",
       "16        None       None       None           None              None   \n",
       "17        None       None       None           None              None   \n",
       "18        None       None       None           None              None   \n",
       "19        None       None       None           None              None   \n",
       "\n",
       "    ENGAGED_TIME_IN_S  ABSOLUTE_TIME_IN_S  VERTICAL_PERCENTAGE_SCROLLED  \\\n",
       "0                  75                   9                          36.0   \n",
       "1                   0                   0                          18.0   \n",
       "2                  55                  79                          88.0   \n",
       "3                 510                 159                          13.0   \n",
       "4                  50                   0                           9.0   \n",
       "5                 310                 182                          31.0   \n",
       "6                  20                  39                         100.0   \n",
       "7                  60                 129                          99.0   \n",
       "8                  30                  18                          79.0   \n",
       "9                   0                   0                          11.0   \n",
       "10                 35                  39                         100.0   \n",
       "11                115                 158                          28.0   \n",
       "12                 15                   0                           9.0   \n",
       "13                320                  99                          58.0   \n",
       "14                435                 527                         100.0   \n",
       "15                  5                  21                          28.0   \n",
       "16                 25                   0                          10.0   \n",
       "17                  5                  19                         100.0   \n",
       "18                  5                  19                         100.0   \n",
       "19                 30                  20                          56.0   \n",
       "\n",
       "   GEO_COUNTRY GEO_REGION BR_LANG     DEVICE_FAMILY OS_FAMILY  \\\n",
       "0           TR         34   tr-TR               Mac  Mac OS X   \n",
       "1           US         VA       C             Other     Linux   \n",
       "2           US         OR   en-US             Other   Windows   \n",
       "3           US         NY   en-US               Mac  Mac OS X   \n",
       "4           US         MA   en-US          Pixel 5a   Android   \n",
       "5           US         VA   ru-RU             Other     Linux   \n",
       "6           PK         PB   en-US             Other   Windows   \n",
       "7           CA         ON   en-US  Samsung SM-G781W   Android   \n",
       "8           EG       None   en-US             Other   Windows   \n",
       "9           GE         TB   en-US               Mac  Mac OS X   \n",
       "10          RU        ROS   ru-RU             Other   Windows   \n",
       "11          IN         KL   en-US             Other   Windows   \n",
       "12          US         NY   en-US               Mac  Mac OS X   \n",
       "13          GB        DBY   en-GB  Samsung SM-G973F   Android   \n",
       "14          IN         GJ   en-GB             Other   Windows   \n",
       "15          US       None   en-US             Other     Linux   \n",
       "16          IN         BR   en-GB               Mac  Mac OS X   \n",
       "17          US         OR   en-US               Mac  Mac OS X   \n",
       "18          US         OR   en-US               Mac  Mac OS X   \n",
       "19          DE         HE   en-GB               Mac  Mac OS X   \n",
       "\n",
       "    PROPENSITY_SCORE  \n",
       "0           0.999991  \n",
       "1           0.999964  \n",
       "2           0.999858  \n",
       "3           0.997642  \n",
       "4           0.978698  \n",
       "5           0.957348  \n",
       "6           0.949957  \n",
       "7           0.444766  \n",
       "8           0.045704  \n",
       "9           0.003009  \n",
       "10          0.000932  \n",
       "11          0.000795  \n",
       "12          0.000679  \n",
       "13          0.000524  \n",
       "14          0.000400  \n",
       "15          0.000375  \n",
       "16          0.000330  \n",
       "17          0.000312  \n",
       "18          0.000312  \n",
       "19          0.000241  "
      ]
     },
     "metadata": {},
     "output_type": "display_data"
    }
   ],
   "source": [
    "import pandas as pd\n",
    "\n",
    "user_features = session.table('FIRST_TOUCH_USER_FEATURES')\n",
    "\n",
    "predictions = user_features.limit(100).select(\n",
    "  'user_id', 'first_page_title', 'refr_urlhost', 'refr_medium', 'mkt_medium', 'mkt_source', 'mkt_term', 'mkt_campaign', 'engaged_time_in_s',\n",
    "  'absolute_time_in_s', 'vertical_percentage_scrolled', 'geo_country', 'geo_region', 'br_lang', 'device_family', 'os_family',\n",
    "  call_udf(\n",
    "    'predict_propensity_to_convert', col('first_page_title'), col('refr_urlhost'), col('refr_medium'), col('mkt_medium'), col('mkt_source'),\n",
    "    col('mkt_term'), col('mkt_campaign'), col('engaged_time_in_s'), col('absolute_time_in_s'), col('vertical_percentage_scrolled'),\n",
    "    col('geo_country'), col('geo_region'), col('br_lang'), col('device_family'), col('os_family')\n",
    "  ).as_('propensity_score')\n",
    ")\n",
    "\n",
    "predictions = predictions.sort(col(\"propensity_score\"), ascending=False)\n",
    "\n",
    "predictions_df = pd.DataFrame(predictions.collect())\n",
    "\n",
    "display(predictions_df.head(20))\n"
   ]
  },
  {
   "cell_type": "markdown",
   "metadata": {},
   "source": [
    "### Save predictions\n",
    "\n",
    "Depending on your use case, it can be useful to bucket these propensity scores using deciles or cut them into labels like *High*, *Medium* and *Low* propensity. This makes it easier for data consumers to use these predictions, for example, to filter marketing campaign audiences. Either save your scores to a new table, or add them into your main user table.\n"
   ]
  },
  {
   "cell_type": "code",
   "execution_count": 35,
   "metadata": {},
   "outputs": [],
   "source": [
    "predictions_df[\"PROPENSITY_DECILE\"] = pd.qcut(predictions_df[\"PROPENSITY_SCORE\"], 10, labels=False)\n",
    "predictions_df[\"PROPENSITY_LABEL\"] = pd.cut(predictions_df[\"PROPENSITY_SCORE\"], [0., 0.33, 0.66, 1.0], include_lowest=True,\n",
    "                                            labels=['Low', 'Medium', 'High'])"
   ]
  },
  {
   "cell_type": "code",
   "execution_count": 36,
   "metadata": {},
   "outputs": [
    {
     "data": {
      "application/vnd.plotly.v1+json": {
       "config": {
        "plotlyServerURL": "https://plot.ly"
       },
       "data": [
        {
         "alignmentgroup": "True",
         "bingroup": "x",
         "hovertemplate": "PROPENSITY_LABEL=High<br>PROPENSITY_SCORE=%{x}<br>count=%{y}<extra></extra>",
         "legendgroup": "High",
         "marker": {
          "color": "#636efa",
          "pattern": {
           "shape": ""
          }
         },
         "name": "High",
         "nbinsx": 50,
         "offsetgroup": "High",
         "orientation": "v",
         "showlegend": true,
         "type": "histogram",
         "x": [
          0.9999914994,
          0.999964464,
          0.9998575959,
          0.9976419021,
          0.9786976203,
          0.9573475371,
          0.9499572803
         ],
         "xaxis": "x",
         "yaxis": "y"
        },
        {
         "alignmentgroup": "True",
         "bingroup": "x",
         "hovertemplate": "PROPENSITY_LABEL=Medium<br>PROPENSITY_SCORE=%{x}<br>count=%{y}<extra></extra>",
         "legendgroup": "Medium",
         "marker": {
          "color": "#EF553B",
          "pattern": {
           "shape": ""
          }
         },
         "name": "Medium",
         "nbinsx": 50,
         "offsetgroup": "Medium",
         "orientation": "v",
         "showlegend": true,
         "type": "histogram",
         "x": [
          0.4447659662
         ],
         "xaxis": "x",
         "yaxis": "y"
        },
        {
         "alignmentgroup": "True",
         "bingroup": "x",
         "hovertemplate": "PROPENSITY_LABEL=Low<br>PROPENSITY_SCORE=%{x}<br>count=%{y}<extra></extra>",
         "legendgroup": "Low",
         "marker": {
          "color": "#00cc96",
          "pattern": {
           "shape": ""
          }
         },
         "name": "Low",
         "nbinsx": 50,
         "offsetgroup": "Low",
         "orientation": "v",
         "showlegend": true,
         "type": "histogram",
         "x": [
          0.04570386869,
          0.003009076152,
          0.0009322056609,
          0.0007945729133,
          0.0006785740359,
          0.0005237012609,
          0.0003998106701,
          0.0003754598254,
          0.0003302121426,
          0.0003115511216,
          0.0003115511216,
          0.00024133282,
          0.0002289100856,
          0.0002233321101,
          0.0002114786647,
          0.0001666221002,
          0.000151848582,
          8.778027535e-05,
          7.980847908e-05,
          5.066972418e-05,
          3.597521234e-05,
          3.360456097e-05,
          3.11086196e-05,
          2.278405603e-05,
          2.163451984e-05,
          1.348798081e-05,
          1.32658974e-05,
          1.165354152e-05,
          1.088212149e-05,
          6.995621129e-06,
          4.851337242e-06,
          3.27381111e-06,
          3.053659114e-06,
          2.439633906e-06,
          2.435479855e-06,
          2.160873438e-06,
          1.953300589e-06,
          1.440562427e-06,
          1.026351306e-06,
          6.928824182e-07,
          4.674780316e-07,
          4.674780316e-07,
          4.190929781e-07,
          3.373636061e-07,
          2.751830267e-07,
          2.416777299e-07,
          2.208309582e-07,
          1.710988078e-07,
          1.617666806e-07,
          1.388357174e-07,
          1.27166912e-07,
          1.210894717e-07,
          8.731795328e-08,
          7.899122913e-08,
          4.479097419e-08,
          3.744729676e-08,
          3.429856062e-08,
          3.15709401e-08,
          2.842408496e-08,
          2.623805669e-08,
          2.002793138e-08,
          1.491579721e-08,
          1.274024392e-08,
          1.162817383e-08,
          6.203198008e-09,
          5.977465767e-09,
          5.646746218e-09,
          3.924585175e-09,
          1.204098502e-09,
          1.1348722e-09,
          7.116240932e-10,
          6.562670367e-10,
          6.000686177e-10,
          4.620691146e-10,
          4.537571021e-10,
          4.243036577e-10,
          3.665888722e-10,
          1.978374503e-10,
          1.960756093e-10,
          1.399643376e-10,
          9.573225117e-11,
          6.750648392e-11,
          6.569430471e-11,
          2.885566616e-11,
          2.874871731e-11,
          1.053239174e-11,
          7.503676917e-12,
          5.371981737e-12,
          5.07058951e-12,
          1.664537993e-12,
          2.653836877e-14,
          1.582086273e-14
         ],
         "xaxis": "x",
         "yaxis": "y"
        }
       ],
       "layout": {
        "barmode": "relative",
        "legend": {
         "title": {
          "text": "PROPENSITY_LABEL"
         },
         "tracegroupgap": 0
        },
        "margin": {
         "t": 60
        },
        "template": {
         "data": {
          "bar": [
           {
            "error_x": {
             "color": "#2a3f5f"
            },
            "error_y": {
             "color": "#2a3f5f"
            },
            "marker": {
             "line": {
              "color": "#E5ECF6",
              "width": 0.5
             },
             "pattern": {
              "fillmode": "overlay",
              "size": 10,
              "solidity": 0.2
             }
            },
            "type": "bar"
           }
          ],
          "barpolar": [
           {
            "marker": {
             "line": {
              "color": "#E5ECF6",
              "width": 0.5
             },
             "pattern": {
              "fillmode": "overlay",
              "size": 10,
              "solidity": 0.2
             }
            },
            "type": "barpolar"
           }
          ],
          "carpet": [
           {
            "aaxis": {
             "endlinecolor": "#2a3f5f",
             "gridcolor": "white",
             "linecolor": "white",
             "minorgridcolor": "white",
             "startlinecolor": "#2a3f5f"
            },
            "baxis": {
             "endlinecolor": "#2a3f5f",
             "gridcolor": "white",
             "linecolor": "white",
             "minorgridcolor": "white",
             "startlinecolor": "#2a3f5f"
            },
            "type": "carpet"
           }
          ],
          "choropleth": [
           {
            "colorbar": {
             "outlinewidth": 0,
             "ticks": ""
            },
            "type": "choropleth"
           }
          ],
          "contour": [
           {
            "colorbar": {
             "outlinewidth": 0,
             "ticks": ""
            },
            "colorscale": [
             [
              0,
              "#0d0887"
             ],
             [
              0.1111111111111111,
              "#46039f"
             ],
             [
              0.2222222222222222,
              "#7201a8"
             ],
             [
              0.3333333333333333,
              "#9c179e"
             ],
             [
              0.4444444444444444,
              "#bd3786"
             ],
             [
              0.5555555555555556,
              "#d8576b"
             ],
             [
              0.6666666666666666,
              "#ed7953"
             ],
             [
              0.7777777777777778,
              "#fb9f3a"
             ],
             [
              0.8888888888888888,
              "#fdca26"
             ],
             [
              1,
              "#f0f921"
             ]
            ],
            "type": "contour"
           }
          ],
          "contourcarpet": [
           {
            "colorbar": {
             "outlinewidth": 0,
             "ticks": ""
            },
            "type": "contourcarpet"
           }
          ],
          "heatmap": [
           {
            "colorbar": {
             "outlinewidth": 0,
             "ticks": ""
            },
            "colorscale": [
             [
              0,
              "#0d0887"
             ],
             [
              0.1111111111111111,
              "#46039f"
             ],
             [
              0.2222222222222222,
              "#7201a8"
             ],
             [
              0.3333333333333333,
              "#9c179e"
             ],
             [
              0.4444444444444444,
              "#bd3786"
             ],
             [
              0.5555555555555556,
              "#d8576b"
             ],
             [
              0.6666666666666666,
              "#ed7953"
             ],
             [
              0.7777777777777778,
              "#fb9f3a"
             ],
             [
              0.8888888888888888,
              "#fdca26"
             ],
             [
              1,
              "#f0f921"
             ]
            ],
            "type": "heatmap"
           }
          ],
          "heatmapgl": [
           {
            "colorbar": {
             "outlinewidth": 0,
             "ticks": ""
            },
            "colorscale": [
             [
              0,
              "#0d0887"
             ],
             [
              0.1111111111111111,
              "#46039f"
             ],
             [
              0.2222222222222222,
              "#7201a8"
             ],
             [
              0.3333333333333333,
              "#9c179e"
             ],
             [
              0.4444444444444444,
              "#bd3786"
             ],
             [
              0.5555555555555556,
              "#d8576b"
             ],
             [
              0.6666666666666666,
              "#ed7953"
             ],
             [
              0.7777777777777778,
              "#fb9f3a"
             ],
             [
              0.8888888888888888,
              "#fdca26"
             ],
             [
              1,
              "#f0f921"
             ]
            ],
            "type": "heatmapgl"
           }
          ],
          "histogram": [
           {
            "marker": {
             "pattern": {
              "fillmode": "overlay",
              "size": 10,
              "solidity": 0.2
             }
            },
            "type": "histogram"
           }
          ],
          "histogram2d": [
           {
            "colorbar": {
             "outlinewidth": 0,
             "ticks": ""
            },
            "colorscale": [
             [
              0,
              "#0d0887"
             ],
             [
              0.1111111111111111,
              "#46039f"
             ],
             [
              0.2222222222222222,
              "#7201a8"
             ],
             [
              0.3333333333333333,
              "#9c179e"
             ],
             [
              0.4444444444444444,
              "#bd3786"
             ],
             [
              0.5555555555555556,
              "#d8576b"
             ],
             [
              0.6666666666666666,
              "#ed7953"
             ],
             [
              0.7777777777777778,
              "#fb9f3a"
             ],
             [
              0.8888888888888888,
              "#fdca26"
             ],
             [
              1,
              "#f0f921"
             ]
            ],
            "type": "histogram2d"
           }
          ],
          "histogram2dcontour": [
           {
            "colorbar": {
             "outlinewidth": 0,
             "ticks": ""
            },
            "colorscale": [
             [
              0,
              "#0d0887"
             ],
             [
              0.1111111111111111,
              "#46039f"
             ],
             [
              0.2222222222222222,
              "#7201a8"
             ],
             [
              0.3333333333333333,
              "#9c179e"
             ],
             [
              0.4444444444444444,
              "#bd3786"
             ],
             [
              0.5555555555555556,
              "#d8576b"
             ],
             [
              0.6666666666666666,
              "#ed7953"
             ],
             [
              0.7777777777777778,
              "#fb9f3a"
             ],
             [
              0.8888888888888888,
              "#fdca26"
             ],
             [
              1,
              "#f0f921"
             ]
            ],
            "type": "histogram2dcontour"
           }
          ],
          "mesh3d": [
           {
            "colorbar": {
             "outlinewidth": 0,
             "ticks": ""
            },
            "type": "mesh3d"
           }
          ],
          "parcoords": [
           {
            "line": {
             "colorbar": {
              "outlinewidth": 0,
              "ticks": ""
             }
            },
            "type": "parcoords"
           }
          ],
          "pie": [
           {
            "automargin": true,
            "type": "pie"
           }
          ],
          "scatter": [
           {
            "fillpattern": {
             "fillmode": "overlay",
             "size": 10,
             "solidity": 0.2
            },
            "type": "scatter"
           }
          ],
          "scatter3d": [
           {
            "line": {
             "colorbar": {
              "outlinewidth": 0,
              "ticks": ""
             }
            },
            "marker": {
             "colorbar": {
              "outlinewidth": 0,
              "ticks": ""
             }
            },
            "type": "scatter3d"
           }
          ],
          "scattercarpet": [
           {
            "marker": {
             "colorbar": {
              "outlinewidth": 0,
              "ticks": ""
             }
            },
            "type": "scattercarpet"
           }
          ],
          "scattergeo": [
           {
            "marker": {
             "colorbar": {
              "outlinewidth": 0,
              "ticks": ""
             }
            },
            "type": "scattergeo"
           }
          ],
          "scattergl": [
           {
            "marker": {
             "colorbar": {
              "outlinewidth": 0,
              "ticks": ""
             }
            },
            "type": "scattergl"
           }
          ],
          "scattermapbox": [
           {
            "marker": {
             "colorbar": {
              "outlinewidth": 0,
              "ticks": ""
             }
            },
            "type": "scattermapbox"
           }
          ],
          "scatterpolar": [
           {
            "marker": {
             "colorbar": {
              "outlinewidth": 0,
              "ticks": ""
             }
            },
            "type": "scatterpolar"
           }
          ],
          "scatterpolargl": [
           {
            "marker": {
             "colorbar": {
              "outlinewidth": 0,
              "ticks": ""
             }
            },
            "type": "scatterpolargl"
           }
          ],
          "scatterternary": [
           {
            "marker": {
             "colorbar": {
              "outlinewidth": 0,
              "ticks": ""
             }
            },
            "type": "scatterternary"
           }
          ],
          "surface": [
           {
            "colorbar": {
             "outlinewidth": 0,
             "ticks": ""
            },
            "colorscale": [
             [
              0,
              "#0d0887"
             ],
             [
              0.1111111111111111,
              "#46039f"
             ],
             [
              0.2222222222222222,
              "#7201a8"
             ],
             [
              0.3333333333333333,
              "#9c179e"
             ],
             [
              0.4444444444444444,
              "#bd3786"
             ],
             [
              0.5555555555555556,
              "#d8576b"
             ],
             [
              0.6666666666666666,
              "#ed7953"
             ],
             [
              0.7777777777777778,
              "#fb9f3a"
             ],
             [
              0.8888888888888888,
              "#fdca26"
             ],
             [
              1,
              "#f0f921"
             ]
            ],
            "type": "surface"
           }
          ],
          "table": [
           {
            "cells": {
             "fill": {
              "color": "#EBF0F8"
             },
             "line": {
              "color": "white"
             }
            },
            "header": {
             "fill": {
              "color": "#C8D4E3"
             },
             "line": {
              "color": "white"
             }
            },
            "type": "table"
           }
          ]
         },
         "layout": {
          "annotationdefaults": {
           "arrowcolor": "#2a3f5f",
           "arrowhead": 0,
           "arrowwidth": 1
          },
          "autotypenumbers": "strict",
          "coloraxis": {
           "colorbar": {
            "outlinewidth": 0,
            "ticks": ""
           }
          },
          "colorscale": {
           "diverging": [
            [
             0,
             "#8e0152"
            ],
            [
             0.1,
             "#c51b7d"
            ],
            [
             0.2,
             "#de77ae"
            ],
            [
             0.3,
             "#f1b6da"
            ],
            [
             0.4,
             "#fde0ef"
            ],
            [
             0.5,
             "#f7f7f7"
            ],
            [
             0.6,
             "#e6f5d0"
            ],
            [
             0.7,
             "#b8e186"
            ],
            [
             0.8,
             "#7fbc41"
            ],
            [
             0.9,
             "#4d9221"
            ],
            [
             1,
             "#276419"
            ]
           ],
           "sequential": [
            [
             0,
             "#0d0887"
            ],
            [
             0.1111111111111111,
             "#46039f"
            ],
            [
             0.2222222222222222,
             "#7201a8"
            ],
            [
             0.3333333333333333,
             "#9c179e"
            ],
            [
             0.4444444444444444,
             "#bd3786"
            ],
            [
             0.5555555555555556,
             "#d8576b"
            ],
            [
             0.6666666666666666,
             "#ed7953"
            ],
            [
             0.7777777777777778,
             "#fb9f3a"
            ],
            [
             0.8888888888888888,
             "#fdca26"
            ],
            [
             1,
             "#f0f921"
            ]
           ],
           "sequentialminus": [
            [
             0,
             "#0d0887"
            ],
            [
             0.1111111111111111,
             "#46039f"
            ],
            [
             0.2222222222222222,
             "#7201a8"
            ],
            [
             0.3333333333333333,
             "#9c179e"
            ],
            [
             0.4444444444444444,
             "#bd3786"
            ],
            [
             0.5555555555555556,
             "#d8576b"
            ],
            [
             0.6666666666666666,
             "#ed7953"
            ],
            [
             0.7777777777777778,
             "#fb9f3a"
            ],
            [
             0.8888888888888888,
             "#fdca26"
            ],
            [
             1,
             "#f0f921"
            ]
           ]
          },
          "colorway": [
           "#636efa",
           "#EF553B",
           "#00cc96",
           "#ab63fa",
           "#FFA15A",
           "#19d3f3",
           "#FF6692",
           "#B6E880",
           "#FF97FF",
           "#FECB52"
          ],
          "font": {
           "color": "#2a3f5f"
          },
          "geo": {
           "bgcolor": "white",
           "lakecolor": "white",
           "landcolor": "#E5ECF6",
           "showlakes": true,
           "showland": true,
           "subunitcolor": "white"
          },
          "hoverlabel": {
           "align": "left"
          },
          "hovermode": "closest",
          "mapbox": {
           "style": "light"
          },
          "paper_bgcolor": "white",
          "plot_bgcolor": "#E5ECF6",
          "polar": {
           "angularaxis": {
            "gridcolor": "white",
            "linecolor": "white",
            "ticks": ""
           },
           "bgcolor": "#E5ECF6",
           "radialaxis": {
            "gridcolor": "white",
            "linecolor": "white",
            "ticks": ""
           }
          },
          "scene": {
           "xaxis": {
            "backgroundcolor": "#E5ECF6",
            "gridcolor": "white",
            "gridwidth": 2,
            "linecolor": "white",
            "showbackground": true,
            "ticks": "",
            "zerolinecolor": "white"
           },
           "yaxis": {
            "backgroundcolor": "#E5ECF6",
            "gridcolor": "white",
            "gridwidth": 2,
            "linecolor": "white",
            "showbackground": true,
            "ticks": "",
            "zerolinecolor": "white"
           },
           "zaxis": {
            "backgroundcolor": "#E5ECF6",
            "gridcolor": "white",
            "gridwidth": 2,
            "linecolor": "white",
            "showbackground": true,
            "ticks": "",
            "zerolinecolor": "white"
           }
          },
          "shapedefaults": {
           "line": {
            "color": "#2a3f5f"
           }
          },
          "ternary": {
           "aaxis": {
            "gridcolor": "white",
            "linecolor": "white",
            "ticks": ""
           },
           "baxis": {
            "gridcolor": "white",
            "linecolor": "white",
            "ticks": ""
           },
           "bgcolor": "#E5ECF6",
           "caxis": {
            "gridcolor": "white",
            "linecolor": "white",
            "ticks": ""
           }
          },
          "title": {
           "x": 0.05
          },
          "xaxis": {
           "automargin": true,
           "gridcolor": "white",
           "linecolor": "white",
           "ticks": "",
           "title": {
            "standoff": 15
           },
           "zerolinecolor": "white",
           "zerolinewidth": 2
          },
          "yaxis": {
           "automargin": true,
           "gridcolor": "white",
           "linecolor": "white",
           "ticks": "",
           "title": {
            "standoff": 15
           },
           "zerolinecolor": "white",
           "zerolinewidth": 2
          }
         }
        },
        "xaxis": {
         "anchor": "y",
         "domain": [
          0,
          1
         ],
         "title": {
          "text": "PROPENSITY_SCORE"
         }
        },
        "yaxis": {
         "anchor": "x",
         "domain": [
          0,
          1
         ],
         "title": {
          "text": "count"
         },
         "type": "log"
        }
       }
      }
     },
     "metadata": {},
     "output_type": "display_data"
    }
   ],
   "source": [
    "import plotly.express as px\n",
    "\n",
    "fig = px.histogram(predictions_df, x=\"PROPENSITY_SCORE\", color=\"PROPENSITY_LABEL\", nbins=50, log_y=True)\n",
    "fig.show()"
   ]
  },
  {
   "cell_type": "code",
   "execution_count": 37,
   "metadata": {},
   "outputs": [
    {
     "data": {
      "text/html": [
       "<div>\n",
       "<style scoped>\n",
       "    .dataframe tbody tr th:only-of-type {\n",
       "        vertical-align: middle;\n",
       "    }\n",
       "\n",
       "    .dataframe tbody tr th {\n",
       "        vertical-align: top;\n",
       "    }\n",
       "\n",
       "    .dataframe thead th {\n",
       "        text-align: right;\n",
       "    }\n",
       "</style>\n",
       "<table border=\"1\" class=\"dataframe\">\n",
       "  <thead>\n",
       "    <tr style=\"text-align: right;\">\n",
       "      <th></th>\n",
       "      <th>USER_ID</th>\n",
       "      <th>PROPENSITY_SCORE</th>\n",
       "      <th>PROPENSITY_DECILE</th>\n",
       "      <th>PROPENSITY_LABEL</th>\n",
       "    </tr>\n",
       "  </thead>\n",
       "  <tbody>\n",
       "    <tr>\n",
       "      <th>0</th>\n",
       "      <td>00094b5d7449bd89425fc6dede800b55</td>\n",
       "      <td>0.999991</td>\n",
       "      <td>9</td>\n",
       "      <td>High</td>\n",
       "    </tr>\n",
       "    <tr>\n",
       "      <th>1</th>\n",
       "      <td>010c456d792b393805049701b1949679</td>\n",
       "      <td>0.999964</td>\n",
       "      <td>9</td>\n",
       "      <td>High</td>\n",
       "    </tr>\n",
       "    <tr>\n",
       "      <th>2</th>\n",
       "      <td>02b05906d86306b843299e6c36c38454</td>\n",
       "      <td>0.999858</td>\n",
       "      <td>9</td>\n",
       "      <td>High</td>\n",
       "    </tr>\n",
       "    <tr>\n",
       "      <th>3</th>\n",
       "      <td>0138c80b431f2718ed7fc7b25bd0020d</td>\n",
       "      <td>0.997642</td>\n",
       "      <td>9</td>\n",
       "      <td>High</td>\n",
       "    </tr>\n",
       "    <tr>\n",
       "      <th>4</th>\n",
       "      <td>006233e361f71e798c39e187c9d64e7b</td>\n",
       "      <td>0.978698</td>\n",
       "      <td>9</td>\n",
       "      <td>High</td>\n",
       "    </tr>\n",
       "    <tr>\n",
       "      <th>5</th>\n",
       "      <td>017ea266e3b7c5bd139f3efb82023a03</td>\n",
       "      <td>0.957348</td>\n",
       "      <td>9</td>\n",
       "      <td>High</td>\n",
       "    </tr>\n",
       "    <tr>\n",
       "      <th>6</th>\n",
       "      <td>02164305e914a9159caf852d3ef7cfa6</td>\n",
       "      <td>0.949957</td>\n",
       "      <td>9</td>\n",
       "      <td>High</td>\n",
       "    </tr>\n",
       "    <tr>\n",
       "      <th>7</th>\n",
       "      <td>0247a40e8d5d7ac9d4541bec8d217c90</td>\n",
       "      <td>0.444766</td>\n",
       "      <td>9</td>\n",
       "      <td>Medium</td>\n",
       "    </tr>\n",
       "    <tr>\n",
       "      <th>8</th>\n",
       "      <td>008942fd19eeae0185c8168ffa957589</td>\n",
       "      <td>0.045704</td>\n",
       "      <td>9</td>\n",
       "      <td>Low</td>\n",
       "    </tr>\n",
       "    <tr>\n",
       "      <th>9</th>\n",
       "      <td>00ec5d8a1cd304cbfe97fac179b0e659</td>\n",
       "      <td>0.003009</td>\n",
       "      <td>9</td>\n",
       "      <td>Low</td>\n",
       "    </tr>\n",
       "    <tr>\n",
       "      <th>10</th>\n",
       "      <td>025dff9bb1f9ccb67526a721f99a8c7e</td>\n",
       "      <td>0.000932</td>\n",
       "      <td>8</td>\n",
       "      <td>Low</td>\n",
       "    </tr>\n",
       "    <tr>\n",
       "      <th>11</th>\n",
       "      <td>0134d5383ab1d3664df475ee6c0f53eb</td>\n",
       "      <td>0.000795</td>\n",
       "      <td>8</td>\n",
       "      <td>Low</td>\n",
       "    </tr>\n",
       "    <tr>\n",
       "      <th>12</th>\n",
       "      <td>000276b605066680a7fa83509a64bc91</td>\n",
       "      <td>0.000679</td>\n",
       "      <td>8</td>\n",
       "      <td>Low</td>\n",
       "    </tr>\n",
       "    <tr>\n",
       "      <th>13</th>\n",
       "      <td>029b3d17d63ff49659817f60fad819ee</td>\n",
       "      <td>0.000524</td>\n",
       "      <td>8</td>\n",
       "      <td>Low</td>\n",
       "    </tr>\n",
       "    <tr>\n",
       "      <th>14</th>\n",
       "      <td>006e399f152a883b4c2b743dc8c6412c</td>\n",
       "      <td>0.000400</td>\n",
       "      <td>8</td>\n",
       "      <td>Low</td>\n",
       "    </tr>\n",
       "    <tr>\n",
       "      <th>15</th>\n",
       "      <td>0024241b2e79ebd0d0566a23c011aed3</td>\n",
       "      <td>0.000375</td>\n",
       "      <td>8</td>\n",
       "      <td>Low</td>\n",
       "    </tr>\n",
       "    <tr>\n",
       "      <th>16</th>\n",
       "      <td>004f7baec27baae9d5cc45beec65c391</td>\n",
       "      <td>0.000330</td>\n",
       "      <td>8</td>\n",
       "      <td>Low</td>\n",
       "    </tr>\n",
       "    <tr>\n",
       "      <th>17</th>\n",
       "      <td>0054b5e34c3efe6f59d260b9799435be</td>\n",
       "      <td>0.000312</td>\n",
       "      <td>8</td>\n",
       "      <td>Low</td>\n",
       "    </tr>\n",
       "    <tr>\n",
       "      <th>18</th>\n",
       "      <td>0145ac296f59f511f8a6310f981a1aa9</td>\n",
       "      <td>0.000312</td>\n",
       "      <td>8</td>\n",
       "      <td>Low</td>\n",
       "    </tr>\n",
       "    <tr>\n",
       "      <th>19</th>\n",
       "      <td>00559588ab9a3582b5625a0081595836</td>\n",
       "      <td>0.000241</td>\n",
       "      <td>8</td>\n",
       "      <td>Low</td>\n",
       "    </tr>\n",
       "  </tbody>\n",
       "</table>\n",
       "</div>"
      ],
      "text/plain": [
       "                             USER_ID  PROPENSITY_SCORE  PROPENSITY_DECILE  \\\n",
       "0   00094b5d7449bd89425fc6dede800b55          0.999991                  9   \n",
       "1   010c456d792b393805049701b1949679          0.999964                  9   \n",
       "2   02b05906d86306b843299e6c36c38454          0.999858                  9   \n",
       "3   0138c80b431f2718ed7fc7b25bd0020d          0.997642                  9   \n",
       "4   006233e361f71e798c39e187c9d64e7b          0.978698                  9   \n",
       "5   017ea266e3b7c5bd139f3efb82023a03          0.957348                  9   \n",
       "6   02164305e914a9159caf852d3ef7cfa6          0.949957                  9   \n",
       "7   0247a40e8d5d7ac9d4541bec8d217c90          0.444766                  9   \n",
       "8   008942fd19eeae0185c8168ffa957589          0.045704                  9   \n",
       "9   00ec5d8a1cd304cbfe97fac179b0e659          0.003009                  9   \n",
       "10  025dff9bb1f9ccb67526a721f99a8c7e          0.000932                  8   \n",
       "11  0134d5383ab1d3664df475ee6c0f53eb          0.000795                  8   \n",
       "12  000276b605066680a7fa83509a64bc91          0.000679                  8   \n",
       "13  029b3d17d63ff49659817f60fad819ee          0.000524                  8   \n",
       "14  006e399f152a883b4c2b743dc8c6412c          0.000400                  8   \n",
       "15  0024241b2e79ebd0d0566a23c011aed3          0.000375                  8   \n",
       "16  004f7baec27baae9d5cc45beec65c391          0.000330                  8   \n",
       "17  0054b5e34c3efe6f59d260b9799435be          0.000312                  8   \n",
       "18  0145ac296f59f511f8a6310f981a1aa9          0.000312                  8   \n",
       "19  00559588ab9a3582b5625a0081595836          0.000241                  8   \n",
       "\n",
       "   PROPENSITY_LABEL  \n",
       "0              High  \n",
       "1              High  \n",
       "2              High  \n",
       "3              High  \n",
       "4              High  \n",
       "5              High  \n",
       "6              High  \n",
       "7            Medium  \n",
       "8               Low  \n",
       "9               Low  \n",
       "10              Low  \n",
       "11              Low  \n",
       "12              Low  \n",
       "13              Low  \n",
       "14              Low  \n",
       "15              Low  \n",
       "16              Low  \n",
       "17              Low  \n",
       "18              Low  \n",
       "19              Low  "
      ]
     },
     "execution_count": 37,
     "metadata": {},
     "output_type": "execute_result"
    }
   ],
   "source": [
    "# Save scores to table\n",
    "df = predictions_df[[\"USER_ID\", \"PROPENSITY_SCORE\", \"PROPENSITY_DECILE\", \"PROPENSITY_LABEL\"]]\n",
    "snowpark_predictions = session.write_pandas(df, \"SNOWPLOW_USER_PROPENSITY_SCORES\", auto_create_table=True, overwrite=True)\n",
    "\n",
    "df.head(20)\n"
   ]
  }
 ],
 "metadata": {
  "kernelspec": {
   "display_name": "Python 3 (ipykernel)",
   "language": "python",
   "name": "python3"
  },
  "language_info": {
   "codemirror_mode": {
    "name": "ipython",
    "version": 3
   },
   "file_extension": ".py",
   "mimetype": "text/x-python",
   "name": "python",
   "nbconvert_exporter": "python",
   "pygments_lexer": "ipython3",
   "version": "3.8.16"
  },
  "vscode": {
   "interpreter": {
    "hash": "945879057ce09b2f684e7743bf8ef87bd43f6160cd2bf3ea4146eed40a478cc8"
   }
  }
 },
 "nbformat": 4,
 "nbformat_minor": 2
}
